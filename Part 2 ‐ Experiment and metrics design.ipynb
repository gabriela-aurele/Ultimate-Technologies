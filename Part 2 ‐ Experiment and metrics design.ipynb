{
 "cells": [
  {
   "cell_type": "markdown",
   "id": "9737e962",
   "metadata": {},
   "source": [
    "# Key Measure of Success:"
   ]
  },
  {
   "cell_type": "markdown",
   "id": "3735144c",
   "metadata": {},
   "source": [
    "The key measure of success for this experiment would be the increase in the number of driver partners who regularly serve both cities after the toll reimbursement policy is implemented. This metric is crucial because it directly reflects the effectiveness of the policy in encouraging driver partners to be available in both cities, thereby reducing exclusivity and improving overall mobility between Gotham and Metropolis."
   ]
  },
  {
   "cell_type": "markdown",
   "id": "952a692b",
   "metadata": {},
   "source": [
    "By focusing on the increase in the number of driver partners serving both cities, we can directly assess the impact of the toll reimbursement policy on breaking down the barrier of exclusivity. If the policy is successful, we would expect to see a significant rise in the proportion of driver partners who are active in both cities, indicating that the toll reimbursement has incentivized them to cross the bridge more frequently."
   ]
  },
  {
   "cell_type": "markdown",
   "id": "b303daae",
   "metadata": {},
   "source": [
    "# Experimental Design:"
   ]
  },
  {
   "cell_type": "markdown",
   "id": "acabebb9",
   "metadata": {},
   "source": [
    "## a) Implementation:"
   ]
  },
  {
   "cell_type": "markdown",
   "id": "580242e1",
   "metadata": {},
   "source": [
    "-Before implementing the toll reimbursement policy, gather baseline data on the number of driver partners who serve both cities.\n",
    "\n",
    "-Implement the toll reimbursement policy for a predetermined duration (e.g., 3 months) and ensure clear communication to all driver partners about the new policy.\n",
    "\n",
    "-During this period, track the number of driver partners who regularly cross the toll bridge and serve both cities."
   ]
  },
  {
   "cell_type": "markdown",
   "id": "702c305c",
   "metadata": {},
   "source": [
    "## b) Statistical Tests:"
   ]
  },
  {
   "cell_type": "markdown",
   "id": "b490e43a",
   "metadata": {},
   "source": [
    "-Conduct a paired t-test to compare the mean number of driver partners serving both cities before and after the implementation of the toll reimbursement policy.\n",
    "\n",
    "-Calculate the p-value to determine the statistical significance of any observed differences."
   ]
  },
  {
   "cell_type": "markdown",
   "id": "6f390903",
   "metadata": {},
   "source": [
    "## c) Interpretation and Recommendations:"
   ]
  },
  {
   "cell_type": "markdown",
   "id": "fd9f9a66",
   "metadata": {},
   "source": [
    "-If the paired t-test results in a statistically significant increase in the number of driver partners serving both cities (i.e., p-value < 0.05), it indicates that the toll reimbursement policy has effectively encouraged driver partners to be available in both cities.\n",
    "\n",
    "-Provide recommendations to the city operations team based on the findings, emphasizing the success of the toll reimbursement policy in promoting cross-city mobility."
   ]
  },
  {
   "cell_type": "code",
   "execution_count": null,
   "id": "223d701c",
   "metadata": {},
   "outputs": [],
   "source": []
  }
 ],
 "metadata": {
  "kernelspec": {
   "display_name": "Python 3 (ipykernel)",
   "language": "python",
   "name": "python3"
  },
  "language_info": {
   "codemirror_mode": {
    "name": "ipython",
    "version": 3
   },
   "file_extension": ".py",
   "mimetype": "text/x-python",
   "name": "python",
   "nbconvert_exporter": "python",
   "pygments_lexer": "ipython3",
   "version": "3.10.9"
  }
 },
 "nbformat": 4,
 "nbformat_minor": 5
}
